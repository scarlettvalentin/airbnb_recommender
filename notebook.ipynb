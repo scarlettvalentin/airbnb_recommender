{
 "cells": [
  {
   "cell_type": "markdown",
   "id": "c4372bc2-f484-42c5-a7ee-11c420175f28",
   "metadata": {},
   "source": [
    "# Airbnb Recommender System"
   ]
  },
  {
   "cell_type": "markdown",
   "id": "86cdd018-f09e-4efa-9406-594dc432a020",
   "metadata": {},
   "source": [
    "## Overview"
   ]
  },
  {
   "cell_type": "markdown",
   "id": "43522fa2-239c-4362-9b80-7ab608089958",
   "metadata": {},
   "source": [
    "# Business Understanding"
   ]
  },
  {
   "cell_type": "markdown",
   "id": "d2147d75-4187-4676-8f4a-450644dcd057",
   "metadata": {},
   "source": [
    "With an overabundance of information at our fingertips, decision-making can be quite overwhelming - especially when you are planning a vacation. Recommender systems help consumers find products tailored to their unique taste. In this project, I will build a recommender system for Airbnb listings in Asheville, North Carolina. \n",
    "\n",
    "The stakeholders for this project include the engineering team at Airbnb who would put the recommender system into production and the executives that will approve the project."
   ]
  },
  {
   "cell_type": "markdown",
   "id": "d59834fc-2fbc-4d68-a4c5-c1385168eef1",
   "metadata": {},
   "source": [
    "# Data Understanding"
   ]
  },
  {
   "cell_type": "code",
   "execution_count": 1,
   "id": "be3aae36-20d4-4f6c-981c-da33b44eb611",
   "metadata": {},
   "outputs": [],
   "source": [
    "# Import necessary libraries\n",
    "import pandas as pd\n",
    "import numpy as np\n",
    "import matplotlib.pyplot as plt\n",
    "from sklearn.model_selection import train_test_split\n",
    "from vaderSentiment.vaderSentiment import SentimentIntensityAnalyzer"
   ]
  },
  {
   "cell_type": "code",
   "execution_count": 2,
   "id": "53c6392d-f73b-4344-9dec-def33e810a9f",
   "metadata": {
    "scrolled": true
   },
   "outputs": [
    {
     "data": {
      "text/html": [
       "<div>\n",
       "<style scoped>\n",
       "    .dataframe tbody tr th:only-of-type {\n",
       "        vertical-align: middle;\n",
       "    }\n",
       "\n",
       "    .dataframe tbody tr th {\n",
       "        vertical-align: top;\n",
       "    }\n",
       "\n",
       "    .dataframe thead th {\n",
       "        text-align: right;\n",
       "    }\n",
       "</style>\n",
       "<table border=\"1\" class=\"dataframe\">\n",
       "  <thead>\n",
       "    <tr style=\"text-align: right;\">\n",
       "      <th></th>\n",
       "      <th>id</th>\n",
       "      <th>listing_url</th>\n",
       "      <th>scrape_id</th>\n",
       "      <th>last_scraped</th>\n",
       "      <th>source</th>\n",
       "      <th>name</th>\n",
       "      <th>description</th>\n",
       "      <th>neighborhood_overview</th>\n",
       "      <th>picture_url</th>\n",
       "      <th>host_id</th>\n",
       "      <th>...</th>\n",
       "      <th>review_scores_communication</th>\n",
       "      <th>review_scores_location</th>\n",
       "      <th>review_scores_value</th>\n",
       "      <th>license</th>\n",
       "      <th>instant_bookable</th>\n",
       "      <th>calculated_host_listings_count</th>\n",
       "      <th>calculated_host_listings_count_entire_homes</th>\n",
       "      <th>calculated_host_listings_count_private_rooms</th>\n",
       "      <th>calculated_host_listings_count_shared_rooms</th>\n",
       "      <th>reviews_per_month</th>\n",
       "    </tr>\n",
       "  </thead>\n",
       "  <tbody>\n",
       "    <tr>\n",
       "      <th>0</th>\n",
       "      <td>155305</td>\n",
       "      <td>https://www.airbnb.com/rooms/155305</td>\n",
       "      <td>20240621025915</td>\n",
       "      <td>2024-06-21</td>\n",
       "      <td>city scrape</td>\n",
       "      <td>Cottage! BonPaul + Sharky's Hostel</td>\n",
       "      <td>NaN</td>\n",
       "      <td>We are within easy walk of pubs, breweries, mu...</td>\n",
       "      <td>https://a0.muscache.com/pictures/8880711/cf38d...</td>\n",
       "      <td>746673</td>\n",
       "      <td>...</td>\n",
       "      <td>4.75</td>\n",
       "      <td>4.92</td>\n",
       "      <td>4.58</td>\n",
       "      <td>NaN</td>\n",
       "      <td>f</td>\n",
       "      <td>8</td>\n",
       "      <td>2</td>\n",
       "      <td>2</td>\n",
       "      <td>4</td>\n",
       "      <td>2.78</td>\n",
       "    </tr>\n",
       "    <tr>\n",
       "      <th>1</th>\n",
       "      <td>156805</td>\n",
       "      <td>https://www.airbnb.com/rooms/156805</td>\n",
       "      <td>20240621025915</td>\n",
       "      <td>2024-06-21</td>\n",
       "      <td>city scrape</td>\n",
       "      <td>Private Room \"Ader\" at BPS Hostel</td>\n",
       "      <td>NaN</td>\n",
       "      <td>Easy walk to pubs, cafes, bakery, breweries, l...</td>\n",
       "      <td>https://a0.muscache.com/pictures/23447d55-fa7e...</td>\n",
       "      <td>746673</td>\n",
       "      <td>...</td>\n",
       "      <td>4.61</td>\n",
       "      <td>4.84</td>\n",
       "      <td>4.46</td>\n",
       "      <td>NaN</td>\n",
       "      <td>t</td>\n",
       "      <td>8</td>\n",
       "      <td>2</td>\n",
       "      <td>2</td>\n",
       "      <td>4</td>\n",
       "      <td>0.43</td>\n",
       "    </tr>\n",
       "    <tr>\n",
       "      <th>2</th>\n",
       "      <td>156926</td>\n",
       "      <td>https://www.airbnb.com/rooms/156926</td>\n",
       "      <td>20240621025915</td>\n",
       "      <td>2024-06-21</td>\n",
       "      <td>city scrape</td>\n",
       "      <td>Mixed Dorm \"Top Bunk #1\" at BPS Hostel</td>\n",
       "      <td>This is a top bunk in the mixed dorm room&lt;br /...</td>\n",
       "      <td>NaN</td>\n",
       "      <td>https://a0.muscache.com/pictures/5fa7178e-c514...</td>\n",
       "      <td>746673</td>\n",
       "      <td>...</td>\n",
       "      <td>4.77</td>\n",
       "      <td>4.78</td>\n",
       "      <td>4.78</td>\n",
       "      <td>NaN</td>\n",
       "      <td>t</td>\n",
       "      <td>8</td>\n",
       "      <td>2</td>\n",
       "      <td>2</td>\n",
       "      <td>4</td>\n",
       "      <td>2.17</td>\n",
       "    </tr>\n",
       "    <tr>\n",
       "      <th>3</th>\n",
       "      <td>197263</td>\n",
       "      <td>https://www.airbnb.com/rooms/197263</td>\n",
       "      <td>20240621025915</td>\n",
       "      <td>2024-06-21</td>\n",
       "      <td>city scrape</td>\n",
       "      <td>Tranquil Room &amp; Private Bath</td>\n",
       "      <td>This is a comfy, peaceful and clean room with ...</td>\n",
       "      <td>NaN</td>\n",
       "      <td>https://a0.muscache.com/pictures/miso/Hosting-...</td>\n",
       "      <td>961396</td>\n",
       "      <td>...</td>\n",
       "      <td>4.93</td>\n",
       "      <td>4.85</td>\n",
       "      <td>4.98</td>\n",
       "      <td>NaN</td>\n",
       "      <td>f</td>\n",
       "      <td>2</td>\n",
       "      <td>1</td>\n",
       "      <td>1</td>\n",
       "      <td>0</td>\n",
       "      <td>0.57</td>\n",
       "    </tr>\n",
       "    <tr>\n",
       "      <th>4</th>\n",
       "      <td>209068</td>\n",
       "      <td>https://www.airbnb.com/rooms/209068</td>\n",
       "      <td>20240621025915</td>\n",
       "      <td>2024-06-21</td>\n",
       "      <td>city scrape</td>\n",
       "      <td>Terrace Cottage</td>\n",
       "      <td>NaN</td>\n",
       "      <td>Our beautiful Grove Park Historic District clo...</td>\n",
       "      <td>https://a0.muscache.com/pictures/1829924/9f3bf...</td>\n",
       "      <td>1029919</td>\n",
       "      <td>...</td>\n",
       "      <td>4.98</td>\n",
       "      <td>4.94</td>\n",
       "      <td>4.79</td>\n",
       "      <td>NaN</td>\n",
       "      <td>f</td>\n",
       "      <td>1</td>\n",
       "      <td>1</td>\n",
       "      <td>0</td>\n",
       "      <td>0</td>\n",
       "      <td>0.42</td>\n",
       "    </tr>\n",
       "  </tbody>\n",
       "</table>\n",
       "<p>5 rows × 75 columns</p>\n",
       "</div>"
      ],
      "text/plain": [
       "       id                          listing_url       scrape_id last_scraped  \\\n",
       "0  155305  https://www.airbnb.com/rooms/155305  20240621025915   2024-06-21   \n",
       "1  156805  https://www.airbnb.com/rooms/156805  20240621025915   2024-06-21   \n",
       "2  156926  https://www.airbnb.com/rooms/156926  20240621025915   2024-06-21   \n",
       "3  197263  https://www.airbnb.com/rooms/197263  20240621025915   2024-06-21   \n",
       "4  209068  https://www.airbnb.com/rooms/209068  20240621025915   2024-06-21   \n",
       "\n",
       "        source                                    name  \\\n",
       "0  city scrape      Cottage! BonPaul + Sharky's Hostel   \n",
       "1  city scrape       Private Room \"Ader\" at BPS Hostel   \n",
       "2  city scrape  Mixed Dorm \"Top Bunk #1\" at BPS Hostel   \n",
       "3  city scrape            Tranquil Room & Private Bath   \n",
       "4  city scrape                         Terrace Cottage   \n",
       "\n",
       "                                         description  \\\n",
       "0                                                NaN   \n",
       "1                                                NaN   \n",
       "2  This is a top bunk in the mixed dorm room<br /...   \n",
       "3  This is a comfy, peaceful and clean room with ...   \n",
       "4                                                NaN   \n",
       "\n",
       "                               neighborhood_overview  \\\n",
       "0  We are within easy walk of pubs, breweries, mu...   \n",
       "1  Easy walk to pubs, cafes, bakery, breweries, l...   \n",
       "2                                                NaN   \n",
       "3                                                NaN   \n",
       "4  Our beautiful Grove Park Historic District clo...   \n",
       "\n",
       "                                         picture_url  host_id  ...  \\\n",
       "0  https://a0.muscache.com/pictures/8880711/cf38d...   746673  ...   \n",
       "1  https://a0.muscache.com/pictures/23447d55-fa7e...   746673  ...   \n",
       "2  https://a0.muscache.com/pictures/5fa7178e-c514...   746673  ...   \n",
       "3  https://a0.muscache.com/pictures/miso/Hosting-...   961396  ...   \n",
       "4  https://a0.muscache.com/pictures/1829924/9f3bf...  1029919  ...   \n",
       "\n",
       "  review_scores_communication review_scores_location review_scores_value  \\\n",
       "0                        4.75                   4.92                4.58   \n",
       "1                        4.61                   4.84                4.46   \n",
       "2                        4.77                   4.78                4.78   \n",
       "3                        4.93                   4.85                4.98   \n",
       "4                        4.98                   4.94                4.79   \n",
       "\n",
       "  license instant_bookable calculated_host_listings_count  \\\n",
       "0     NaN                f                              8   \n",
       "1     NaN                t                              8   \n",
       "2     NaN                t                              8   \n",
       "3     NaN                f                              2   \n",
       "4     NaN                f                              1   \n",
       "\n",
       "  calculated_host_listings_count_entire_homes  \\\n",
       "0                                           2   \n",
       "1                                           2   \n",
       "2                                           2   \n",
       "3                                           1   \n",
       "4                                           1   \n",
       "\n",
       "  calculated_host_listings_count_private_rooms  \\\n",
       "0                                            2   \n",
       "1                                            2   \n",
       "2                                            2   \n",
       "3                                            1   \n",
       "4                                            0   \n",
       "\n",
       "  calculated_host_listings_count_shared_rooms reviews_per_month  \n",
       "0                                           4              2.78  \n",
       "1                                           4              0.43  \n",
       "2                                           4              2.17  \n",
       "3                                           0              0.57  \n",
       "4                                           0              0.42  \n",
       "\n",
       "[5 rows x 75 columns]"
      ]
     },
     "execution_count": 2,
     "metadata": {},
     "output_type": "execute_result"
    }
   ],
   "source": [
    "# Import listings data and preview first 5 rows\n",
    "listings_df = pd.read_csv('data/listings.csv')\n",
    "listings_df.head()"
   ]
  },
  {
   "cell_type": "code",
   "execution_count": 3,
   "id": "b0837a48-f7a5-454b-82c4-85ba6beca38e",
   "metadata": {},
   "outputs": [
    {
     "name": "stdout",
     "output_type": "stream",
     "text": [
      "<class 'pandas.core.frame.DataFrame'>\n",
      "RangeIndex: 3031 entries, 0 to 3030\n",
      "Data columns (total 75 columns):\n",
      " #   Column                                        Non-Null Count  Dtype  \n",
      "---  ------                                        --------------  -----  \n",
      " 0   id                                            3031 non-null   int64  \n",
      " 1   listing_url                                   3031 non-null   object \n",
      " 2   scrape_id                                     3031 non-null   int64  \n",
      " 3   last_scraped                                  3031 non-null   object \n",
      " 4   source                                        3031 non-null   object \n",
      " 5   name                                          3031 non-null   object \n",
      " 6   description                                   2939 non-null   object \n",
      " 7   neighborhood_overview                         2205 non-null   object \n",
      " 8   picture_url                                   3031 non-null   object \n",
      " 9   host_id                                       3031 non-null   int64  \n",
      " 10  host_url                                      3031 non-null   object \n",
      " 11  host_name                                     3031 non-null   object \n",
      " 12  host_since                                    3031 non-null   object \n",
      " 13  host_location                                 2551 non-null   object \n",
      " 14  host_about                                    1919 non-null   object \n",
      " 15  host_response_time                            2764 non-null   object \n",
      " 16  host_response_rate                            2764 non-null   object \n",
      " 17  host_acceptance_rate                          2873 non-null   object \n",
      " 18  host_is_superhost                             2984 non-null   object \n",
      " 19  host_thumbnail_url                            3031 non-null   object \n",
      " 20  host_picture_url                              3031 non-null   object \n",
      " 21  host_neighbourhood                            1116 non-null   object \n",
      " 22  host_listings_count                           3031 non-null   int64  \n",
      " 23  host_total_listings_count                     3031 non-null   int64  \n",
      " 24  host_verifications                            3031 non-null   object \n",
      " 25  host_has_profile_pic                          3031 non-null   object \n",
      " 26  host_identity_verified                        3031 non-null   object \n",
      " 27  neighbourhood                                 2205 non-null   object \n",
      " 28  neighbourhood_cleansed                        3031 non-null   int64  \n",
      " 29  neighbourhood_group_cleansed                  0 non-null      float64\n",
      " 30  latitude                                      3031 non-null   float64\n",
      " 31  longitude                                     3031 non-null   float64\n",
      " 32  property_type                                 3031 non-null   object \n",
      " 33  room_type                                     3031 non-null   object \n",
      " 34  accommodates                                  3031 non-null   int64  \n",
      " 35  bathrooms                                     2892 non-null   float64\n",
      " 36  bathrooms_text                                3031 non-null   object \n",
      " 37  bedrooms                                      3010 non-null   float64\n",
      " 38  beds                                          2892 non-null   float64\n",
      " 39  amenities                                     3031 non-null   object \n",
      " 40  price                                         2892 non-null   object \n",
      " 41  minimum_nights                                3031 non-null   int64  \n",
      " 42  maximum_nights                                3031 non-null   int64  \n",
      " 43  minimum_minimum_nights                        3031 non-null   int64  \n",
      " 44  maximum_minimum_nights                        3031 non-null   int64  \n",
      " 45  minimum_maximum_nights                        3031 non-null   int64  \n",
      " 46  maximum_maximum_nights                        3031 non-null   int64  \n",
      " 47  minimum_nights_avg_ntm                        3031 non-null   float64\n",
      " 48  maximum_nights_avg_ntm                        3031 non-null   float64\n",
      " 49  calendar_updated                              0 non-null      float64\n",
      " 50  has_availability                              3011 non-null   object \n",
      " 51  availability_30                               3031 non-null   int64  \n",
      " 52  availability_60                               3031 non-null   int64  \n",
      " 53  availability_90                               3031 non-null   int64  \n",
      " 54  availability_365                              3031 non-null   int64  \n",
      " 55  calendar_last_scraped                         3031 non-null   object \n",
      " 56  number_of_reviews                             3031 non-null   int64  \n",
      " 57  number_of_reviews_ltm                         3031 non-null   int64  \n",
      " 58  number_of_reviews_l30d                        3031 non-null   int64  \n",
      " 59  first_review                                  2812 non-null   object \n",
      " 60  last_review                                   2812 non-null   object \n",
      " 61  review_scores_rating                          2812 non-null   float64\n",
      " 62  review_scores_accuracy                        2808 non-null   float64\n",
      " 63  review_scores_cleanliness                     2808 non-null   float64\n",
      " 64  review_scores_checkin                         2807 non-null   float64\n",
      " 65  review_scores_communication                   2808 non-null   float64\n",
      " 66  review_scores_location                        2808 non-null   float64\n",
      " 67  review_scores_value                           2808 non-null   float64\n",
      " 68  license                                       0 non-null      float64\n",
      " 69  instant_bookable                              3031 non-null   object \n",
      " 70  calculated_host_listings_count                3031 non-null   int64  \n",
      " 71  calculated_host_listings_count_entire_homes   3031 non-null   int64  \n",
      " 72  calculated_host_listings_count_private_rooms  3031 non-null   int64  \n",
      " 73  calculated_host_listings_count_shared_rooms   3031 non-null   int64  \n",
      " 74  reviews_per_month                             2812 non-null   float64\n",
      "dtypes: float64(18), int64(24), object(33)\n",
      "memory usage: 1.7+ MB\n"
     ]
    }
   ],
   "source": [
    "# View the overall shape, dtypes and null counts for each column in train data\n",
    "listings_df.info()"
   ]
  },
  {
   "cell_type": "code",
   "execution_count": 4,
   "id": "a5050b3a-d015-47b5-a1ee-ab7f9b08d742",
   "metadata": {},
   "outputs": [
    {
     "data": {
      "text/html": [
       "<div>\n",
       "<style scoped>\n",
       "    .dataframe tbody tr th:only-of-type {\n",
       "        vertical-align: middle;\n",
       "    }\n",
       "\n",
       "    .dataframe tbody tr th {\n",
       "        vertical-align: top;\n",
       "    }\n",
       "\n",
       "    .dataframe thead th {\n",
       "        text-align: right;\n",
       "    }\n",
       "</style>\n",
       "<table border=\"1\" class=\"dataframe\">\n",
       "  <thead>\n",
       "    <tr style=\"text-align: right;\">\n",
       "      <th></th>\n",
       "      <th>listing_id</th>\n",
       "      <th>id</th>\n",
       "      <th>date</th>\n",
       "      <th>reviewer_id</th>\n",
       "      <th>reviewer_name</th>\n",
       "      <th>comments</th>\n",
       "    </tr>\n",
       "  </thead>\n",
       "  <tbody>\n",
       "    <tr>\n",
       "      <th>0</th>\n",
       "      <td>155305</td>\n",
       "      <td>409437</td>\n",
       "      <td>2011-07-31</td>\n",
       "      <td>844309</td>\n",
       "      <td>Jillian</td>\n",
       "      <td>We had a wonderful time! The cottage was very ...</td>\n",
       "    </tr>\n",
       "    <tr>\n",
       "      <th>1</th>\n",
       "      <td>155305</td>\n",
       "      <td>469775</td>\n",
       "      <td>2011-08-23</td>\n",
       "      <td>343443</td>\n",
       "      <td>Katie</td>\n",
       "      <td>Place was great! Can't really speak to the ins...</td>\n",
       "    </tr>\n",
       "    <tr>\n",
       "      <th>2</th>\n",
       "      <td>155305</td>\n",
       "      <td>548257</td>\n",
       "      <td>2011-09-19</td>\n",
       "      <td>1152025</td>\n",
       "      <td>Katie</td>\n",
       "      <td>We had a great time!  The cabin was nice and a...</td>\n",
       "    </tr>\n",
       "    <tr>\n",
       "      <th>3</th>\n",
       "      <td>155305</td>\n",
       "      <td>671470</td>\n",
       "      <td>2011-10-28</td>\n",
       "      <td>1245885</td>\n",
       "      <td>Jason</td>\n",
       "      <td>Clean and comfortable room with everything you...</td>\n",
       "    </tr>\n",
       "    <tr>\n",
       "      <th>4</th>\n",
       "      <td>155305</td>\n",
       "      <td>1606327</td>\n",
       "      <td>2012-07-01</td>\n",
       "      <td>1891395</td>\n",
       "      <td>Craig</td>\n",
       "      <td>The cabin was solid for an overnight stay. It ...</td>\n",
       "    </tr>\n",
       "  </tbody>\n",
       "</table>\n",
       "</div>"
      ],
      "text/plain": [
       "   listing_id       id        date  reviewer_id reviewer_name  \\\n",
       "0      155305   409437  2011-07-31       844309       Jillian   \n",
       "1      155305   469775  2011-08-23       343443         Katie   \n",
       "2      155305   548257  2011-09-19      1152025         Katie   \n",
       "3      155305   671470  2011-10-28      1245885         Jason   \n",
       "4      155305  1606327  2012-07-01      1891395         Craig   \n",
       "\n",
       "                                            comments  \n",
       "0  We had a wonderful time! The cottage was very ...  \n",
       "1  Place was great! Can't really speak to the ins...  \n",
       "2  We had a great time!  The cabin was nice and a...  \n",
       "3  Clean and comfortable room with everything you...  \n",
       "4  The cabin was solid for an overnight stay. It ...  "
      ]
     },
     "execution_count": 4,
     "metadata": {},
     "output_type": "execute_result"
    }
   ],
   "source": [
    "# Import reviews data and preview first 5 rows\n",
    "reviews_df = pd.read_csv('data/reviews.csv')\n",
    "reviews_df.head()"
   ]
  },
  {
   "cell_type": "code",
   "execution_count": 5,
   "id": "8ea5c9fc-2243-4f3e-a213-f8fe4dae2935",
   "metadata": {},
   "outputs": [
    {
     "data": {
      "text/plain": [
       "\"Place was great! Can't really speak to the inside as we only went inside to check in, but looked nice and friendly. We stayed in the cabin in the back and it was lovely. Private and cute, user-friendly. Hot tub was also really good. Spoke with other guests who were all really friendly and interesting people. Great area of town - easy walk to pizza, bars, shops, and coffee. Really loved staying here. \\r<br/>Suggestion: Bring an extra towel, plates or something to use if you're eating in (there's a small kitchen). Maybe another fan if it's really hot. Bed is not really that comfortable if you're really tall. Thanks!!\""
      ]
     },
     "execution_count": 5,
     "metadata": {},
     "output_type": "execute_result"
    }
   ],
   "source": [
    "# View an example review\n",
    "reviews_df.comments[1]"
   ]
  },
  {
   "cell_type": "code",
   "execution_count": 6,
   "id": "aca9d745-df56-4cae-ac7f-66b92402e467",
   "metadata": {},
   "outputs": [
    {
     "name": "stdout",
     "output_type": "stream",
     "text": [
      "<class 'pandas.core.frame.DataFrame'>\n",
      "RangeIndex: 331718 entries, 0 to 331717\n",
      "Data columns (total 6 columns):\n",
      " #   Column         Non-Null Count   Dtype \n",
      "---  ------         --------------   ----- \n",
      " 0   listing_id     331718 non-null  int64 \n",
      " 1   id             331718 non-null  int64 \n",
      " 2   date           331718 non-null  object\n",
      " 3   reviewer_id    331718 non-null  int64 \n",
      " 4   reviewer_name  331717 non-null  object\n",
      " 5   comments       331653 non-null  object\n",
      "dtypes: int64(3), object(3)\n",
      "memory usage: 15.2+ MB\n"
     ]
    }
   ],
   "source": [
    "# View the overall shape, dtypes and null counts for each column in train data\n",
    "reviews_df.info()"
   ]
  },
  {
   "cell_type": "code",
   "execution_count": 18,
   "id": "46c5184a-8e5a-4220-9cdf-3df050147f87",
   "metadata": {},
   "outputs": [
    {
     "data": {
      "text/plain": [
       "reviewer_id\n",
       "151320586    19\n",
       "54752689     19\n",
       "20741182     18\n",
       "418200641    17\n",
       "7502408      17\n",
       "             ..\n",
       "176014109     1\n",
       "183451179     1\n",
       "324469879     1\n",
       "204718147     1\n",
       "478551791     1\n",
       "Name: count, Length: 295604, dtype: int64"
      ]
     },
     "execution_count": 18,
     "metadata": {},
     "output_type": "execute_result"
    }
   ],
   "source": [
    "# View value counts for reviewer ids to see if users reviewed multiple listings\n",
    "reviews_df['reviewer_id'].value_counts()"
   ]
  },
  {
   "cell_type": "markdown",
   "id": "152f3b77-2cdd-48ce-8e8f-2fb449c5328c",
   "metadata": {},
   "source": [
    "# Data Preparation"
   ]
  },
  {
   "cell_type": "markdown",
   "id": "d6d300b8-4afd-48b5-958a-de3e0f7a841b",
   "metadata": {},
   "source": [
    "## Data Cleaning"
   ]
  },
  {
   "cell_type": "markdown",
   "id": "4c5a2957-da8f-47f8-8b2f-ab0637c15ae0",
   "metadata": {},
   "source": [
    "### Listings DataFrame"
   ]
  },
  {
   "cell_type": "code",
   "execution_count": 7,
   "id": "ff5aab33-9cd2-4ad8-b015-da1aec6bcf0e",
   "metadata": {},
   "outputs": [],
   "source": [
    "# Create a new dataframe with only necessary columns\n",
    "columns_to_keep = ['id', 'listing_url', 'name', 'description', 'picture_url', 'room_type', 'price']\n",
    "recommender_cols_df = listings_df[columns_to_keep]"
   ]
  },
  {
   "cell_type": "code",
   "execution_count": 8,
   "id": "bd34e7d4-f246-4678-a40e-c028fa0e1df0",
   "metadata": {},
   "outputs": [
    {
     "name": "stdout",
     "output_type": "stream",
     "text": [
      "<class 'pandas.core.frame.DataFrame'>\n",
      "RangeIndex: 3031 entries, 0 to 3030\n",
      "Data columns (total 7 columns):\n",
      " #   Column       Non-Null Count  Dtype \n",
      "---  ------       --------------  ----- \n",
      " 0   id           3031 non-null   int64 \n",
      " 1   listing_url  3031 non-null   object\n",
      " 2   name         3031 non-null   object\n",
      " 3   description  2939 non-null   object\n",
      " 4   picture_url  3031 non-null   object\n",
      " 5   room_type    3031 non-null   object\n",
      " 6   price        2892 non-null   object\n",
      "dtypes: int64(1), object(6)\n",
      "memory usage: 165.9+ KB\n"
     ]
    }
   ],
   "source": [
    "# Check nulls for new dataframe\n",
    "recommender_cols_df.info()"
   ]
  },
  {
   "cell_type": "markdown",
   "id": "2df678cc-c927-41a0-b068-d9dee57c8e15",
   "metadata": {},
   "source": [
    "The `description` and `price` columns have some nulls but we will keep it as is. This dataframe is going to be used only to provide information to the user on the listings that are recommended. Every listing has a listing url, therefore the user can click the url to get additional information on the listing and book the listing."
   ]
  },
  {
   "cell_type": "markdown",
   "id": "03c34721-3121-4c8a-afbc-2aebbb43cae3",
   "metadata": {},
   "source": [
    "### Reviews DataFrame"
   ]
  },
  {
   "cell_type": "code",
   "execution_count": 9,
   "id": "8c72e4c9-135a-4937-8540-cc7b0575842a",
   "metadata": {},
   "outputs": [
    {
     "data": {
      "text/html": [
       "<div>\n",
       "<style scoped>\n",
       "    .dataframe tbody tr th:only-of-type {\n",
       "        vertical-align: middle;\n",
       "    }\n",
       "\n",
       "    .dataframe tbody tr th {\n",
       "        vertical-align: top;\n",
       "    }\n",
       "\n",
       "    .dataframe thead th {\n",
       "        text-align: right;\n",
       "    }\n",
       "</style>\n",
       "<table border=\"1\" class=\"dataframe\">\n",
       "  <thead>\n",
       "    <tr style=\"text-align: right;\">\n",
       "      <th></th>\n",
       "      <th>listing_id</th>\n",
       "      <th>id</th>\n",
       "      <th>date</th>\n",
       "      <th>reviewer_id</th>\n",
       "      <th>reviewer_name</th>\n",
       "      <th>comments</th>\n",
       "    </tr>\n",
       "  </thead>\n",
       "  <tbody>\n",
       "    <tr>\n",
       "      <th>7883</th>\n",
       "      <td>13112074</td>\n",
       "      <td>328260078</td>\n",
       "      <td>2018-09-25</td>\n",
       "      <td>121268935</td>\n",
       "      <td>Tiffany</td>\n",
       "      <td>NaN</td>\n",
       "    </tr>\n",
       "    <tr>\n",
       "      <th>22461</th>\n",
       "      <td>5696919</td>\n",
       "      <td>441087924</td>\n",
       "      <td>2019-04-21</td>\n",
       "      <td>140470172</td>\n",
       "      <td>Michael</td>\n",
       "      <td>NaN</td>\n",
       "    </tr>\n",
       "    <tr>\n",
       "      <th>24521</th>\n",
       "      <td>14352724</td>\n",
       "      <td>557206634</td>\n",
       "      <td>2019-10-31</td>\n",
       "      <td>40817729</td>\n",
       "      <td>Jessica</td>\n",
       "      <td>NaN</td>\n",
       "    </tr>\n",
       "    <tr>\n",
       "      <th>30131</th>\n",
       "      <td>6145162</td>\n",
       "      <td>759901200</td>\n",
       "      <td>2021-05-18</td>\n",
       "      <td>37832155</td>\n",
       "      <td>Kayla</td>\n",
       "      <td>NaN</td>\n",
       "    </tr>\n",
       "    <tr>\n",
       "      <th>33003</th>\n",
       "      <td>6234618</td>\n",
       "      <td>311153650</td>\n",
       "      <td>2018-08-20</td>\n",
       "      <td>74602012</td>\n",
       "      <td>Eileen</td>\n",
       "      <td>NaN</td>\n",
       "    </tr>\n",
       "    <tr>\n",
       "      <th>...</th>\n",
       "      <td>...</td>\n",
       "      <td>...</td>\n",
       "      <td>...</td>\n",
       "      <td>...</td>\n",
       "      <td>...</td>\n",
       "      <td>...</td>\n",
       "    </tr>\n",
       "    <tr>\n",
       "      <th>278579</th>\n",
       "      <td>49232318</td>\n",
       "      <td>454954076455043203</td>\n",
       "      <td>2021-09-19</td>\n",
       "      <td>420262398</td>\n",
       "      <td>Carrie</td>\n",
       "      <td>NaN</td>\n",
       "    </tr>\n",
       "    <tr>\n",
       "      <th>284092</th>\n",
       "      <td>51843113</td>\n",
       "      <td>790633688751657337</td>\n",
       "      <td>2022-12-26</td>\n",
       "      <td>363935612</td>\n",
       "      <td>Ruby</td>\n",
       "      <td>NaN</td>\n",
       "    </tr>\n",
       "    <tr>\n",
       "      <th>292236</th>\n",
       "      <td>554287486404930872</td>\n",
       "      <td>902919400570368908</td>\n",
       "      <td>2023-05-30</td>\n",
       "      <td>227046934</td>\n",
       "      <td>Bryan</td>\n",
       "      <td>NaN</td>\n",
       "    </tr>\n",
       "    <tr>\n",
       "      <th>305037</th>\n",
       "      <td>53810860</td>\n",
       "      <td>749943288289375768</td>\n",
       "      <td>2022-10-31</td>\n",
       "      <td>90622309</td>\n",
       "      <td>Gerald</td>\n",
       "      <td>NaN</td>\n",
       "    </tr>\n",
       "    <tr>\n",
       "      <th>324441</th>\n",
       "      <td>937635084114386852</td>\n",
       "      <td>951527307020969859</td>\n",
       "      <td>2023-08-05</td>\n",
       "      <td>249675523</td>\n",
       "      <td>Dennis</td>\n",
       "      <td>NaN</td>\n",
       "    </tr>\n",
       "  </tbody>\n",
       "</table>\n",
       "<p>65 rows × 6 columns</p>\n",
       "</div>"
      ],
      "text/plain": [
       "                listing_id                  id        date  reviewer_id  \\\n",
       "7883              13112074           328260078  2018-09-25    121268935   \n",
       "22461              5696919           441087924  2019-04-21    140470172   \n",
       "24521             14352724           557206634  2019-10-31     40817729   \n",
       "30131              6145162           759901200  2021-05-18     37832155   \n",
       "33003              6234618           311153650  2018-08-20     74602012   \n",
       "...                    ...                 ...         ...          ...   \n",
       "278579            49232318  454954076455043203  2021-09-19    420262398   \n",
       "284092            51843113  790633688751657337  2022-12-26    363935612   \n",
       "292236  554287486404930872  902919400570368908  2023-05-30    227046934   \n",
       "305037            53810860  749943288289375768  2022-10-31     90622309   \n",
       "324441  937635084114386852  951527307020969859  2023-08-05    249675523   \n",
       "\n",
       "       reviewer_name comments  \n",
       "7883         Tiffany      NaN  \n",
       "22461        Michael      NaN  \n",
       "24521        Jessica      NaN  \n",
       "30131          Kayla      NaN  \n",
       "33003         Eileen      NaN  \n",
       "...              ...      ...  \n",
       "278579        Carrie      NaN  \n",
       "284092          Ruby      NaN  \n",
       "292236         Bryan      NaN  \n",
       "305037        Gerald      NaN  \n",
       "324441        Dennis      NaN  \n",
       "\n",
       "[65 rows x 6 columns]"
      ]
     },
     "execution_count": 9,
     "metadata": {},
     "output_type": "execute_result"
    }
   ],
   "source": [
    "# Check columns with no comments\n",
    "reviews_df[reviews_df['comments'].isnull()]"
   ]
  },
  {
   "cell_type": "code",
   "execution_count": 10,
   "id": "c44783e2-d7f3-4f22-a9c7-3735d7b67471",
   "metadata": {},
   "outputs": [
    {
     "data": {
      "text/plain": [
       "False    331718\n",
       "Name: count, dtype: int64"
      ]
     },
     "execution_count": 10,
     "metadata": {},
     "output_type": "execute_result"
    }
   ],
   "source": [
    "# Check duplicates\n",
    "reviews_df.duplicated('id').value_counts()"
   ]
  },
  {
   "cell_type": "markdown",
   "id": "27e5f766-edf6-4406-b91c-1bca19478deb",
   "metadata": {},
   "source": [
    "We can delete the rows with no comments. They don't provide any information on what these users thought about the particular listings and there are only 65 of them."
   ]
  },
  {
   "cell_type": "code",
   "execution_count": 11,
   "id": "f03bdd2c-6809-4465-b8ab-c7cdd14292a3",
   "metadata": {},
   "outputs": [],
   "source": [
    "# Drop nulls\n",
    "reviews_df.dropna(subset='comments', inplace=True)"
   ]
  },
  {
   "cell_type": "code",
   "execution_count": 12,
   "id": "272a6ec8-69ff-4c78-b294-21827a5481c8",
   "metadata": {},
   "outputs": [],
   "source": [
    "# Drop unecessary columns\n",
    "reviews_df.drop(axis=1, columns=['id', 'date', 'reviewer_name'], inplace=True)"
   ]
  },
  {
   "cell_type": "markdown",
   "id": "244fd2ea-a1a6-4b2a-aa6d-051038c83def",
   "metadata": {},
   "source": [
    "## Feature Engineering"
   ]
  },
  {
   "cell_type": "markdown",
   "id": "263a577e-a29f-4d12-b295-34426b86859b",
   "metadata": {},
   "source": []
  },
  {
   "cell_type": "code",
   "execution_count": 13,
   "id": "9e7c4c02-3bf4-412c-9146-dc8d0cb8e8fb",
   "metadata": {},
   "outputs": [],
   "source": [
    "# Instantiate analyzer\n",
    "analyzer = SentimentIntensityAnalyzer()\n",
    "\n",
    "# Create new column `compound_scores` to list compound scores of text comments\n",
    "reviews_df['compound_scores'] = [analyzer.polarity_scores(x)['compound'] for x in reviews_df['comments']]"
   ]
  },
  {
   "cell_type": "code",
   "execution_count": 15,
   "id": "2f68509f-da66-4c3b-867e-54f6328139bf",
   "metadata": {},
   "outputs": [
    {
     "data": {
      "text/html": [
       "<div>\n",
       "<style scoped>\n",
       "    .dataframe tbody tr th:only-of-type {\n",
       "        vertical-align: middle;\n",
       "    }\n",
       "\n",
       "    .dataframe tbody tr th {\n",
       "        vertical-align: top;\n",
       "    }\n",
       "\n",
       "    .dataframe thead th {\n",
       "        text-align: right;\n",
       "    }\n",
       "</style>\n",
       "<table border=\"1\" class=\"dataframe\">\n",
       "  <thead>\n",
       "    <tr style=\"text-align: right;\">\n",
       "      <th></th>\n",
       "      <th>listing_id</th>\n",
       "      <th>reviewer_id</th>\n",
       "      <th>comments</th>\n",
       "      <th>compound_scores</th>\n",
       "    </tr>\n",
       "  </thead>\n",
       "  <tbody>\n",
       "    <tr>\n",
       "      <th>0</th>\n",
       "      <td>155305</td>\n",
       "      <td>844309</td>\n",
       "      <td>We had a wonderful time! The cottage was very ...</td>\n",
       "      <td>0.8830</td>\n",
       "    </tr>\n",
       "    <tr>\n",
       "      <th>1</th>\n",
       "      <td>155305</td>\n",
       "      <td>343443</td>\n",
       "      <td>Place was great! Can't really speak to the ins...</td>\n",
       "      <td>0.9954</td>\n",
       "    </tr>\n",
       "    <tr>\n",
       "      <th>2</th>\n",
       "      <td>155305</td>\n",
       "      <td>1152025</td>\n",
       "      <td>We had a great time!  The cabin was nice and a...</td>\n",
       "      <td>0.9819</td>\n",
       "    </tr>\n",
       "    <tr>\n",
       "      <th>3</th>\n",
       "      <td>155305</td>\n",
       "      <td>1245885</td>\n",
       "      <td>Clean and comfortable room with everything you...</td>\n",
       "      <td>0.9775</td>\n",
       "    </tr>\n",
       "    <tr>\n",
       "      <th>4</th>\n",
       "      <td>155305</td>\n",
       "      <td>1891395</td>\n",
       "      <td>The cabin was solid for an overnight stay. It ...</td>\n",
       "      <td>0.8807</td>\n",
       "    </tr>\n",
       "  </tbody>\n",
       "</table>\n",
       "</div>"
      ],
      "text/plain": [
       "   listing_id  reviewer_id                                           comments  \\\n",
       "0      155305       844309  We had a wonderful time! The cottage was very ...   \n",
       "1      155305       343443  Place was great! Can't really speak to the ins...   \n",
       "2      155305      1152025  We had a great time!  The cabin was nice and a...   \n",
       "3      155305      1245885  Clean and comfortable room with everything you...   \n",
       "4      155305      1891395  The cabin was solid for an overnight stay. It ...   \n",
       "\n",
       "   compound_scores  \n",
       "0           0.8830  \n",
       "1           0.9954  \n",
       "2           0.9819  \n",
       "3           0.9775  \n",
       "4           0.8807  "
      ]
     },
     "execution_count": 15,
     "metadata": {},
     "output_type": "execute_result"
    }
   ],
   "source": [
    "# Preview results\n",
    "reviews_df.head()"
   ]
  },
  {
   "cell_type": "code",
   "execution_count": 20,
   "id": "ce6c9ac0-3ff1-45d5-b25a-3a2a032ee909",
   "metadata": {},
   "outputs": [
    {
     "data": {
      "text/plain": [
       "count    331653.000000\n",
       "mean          0.853374\n",
       "std           0.197392\n",
       "min          -0.993900\n",
       "25%           0.826800\n",
       "50%           0.922600\n",
       "75%           0.963400\n",
       "max           0.999700\n",
       "Name: compound_scores, dtype: float64"
      ]
     },
     "execution_count": 20,
     "metadata": {},
     "output_type": "execute_result"
    }
   ],
   "source": [
    "# View statistical distribution of compound scores\n",
    "reviews_df['compound_scores'].describe()"
   ]
  },
  {
   "cell_type": "markdown",
   "id": "c72135bc-7079-4a12-81e8-05b8cc8f5db4",
   "metadata": {},
   "source": [
    "#Include overview of statistical distribution"
   ]
  },
  {
   "cell_type": "markdown",
   "id": "05f6f15b-00c4-4721-88df-da9b70518b54",
   "metadata": {},
   "source": [
    "# Modeling"
   ]
  },
  {
   "cell_type": "markdown",
   "id": "839be8ff-2f18-44e7-84b5-558f481b98a2",
   "metadata": {},
   "source": [
    "## Baseline Understanding"
   ]
  },
  {
   "cell_type": "markdown",
   "id": "a527a781-1ac7-4127-9897-0b7a69eeb659",
   "metadata": {},
   "source": []
  },
  {
   "cell_type": "markdown",
   "id": "12a317a9-59dd-451a-a46e-ccd9672c765b",
   "metadata": {},
   "source": [
    "## Modeling Iterations"
   ]
  },
  {
   "cell_type": "markdown",
   "id": "9cecd05a-6a1d-456d-a930-7f7fe10bdbd5",
   "metadata": {},
   "source": []
  },
  {
   "cell_type": "markdown",
   "id": "017e60a4-168f-455d-b988-bdadb61a0642",
   "metadata": {},
   "source": [
    "## Final Model"
   ]
  },
  {
   "cell_type": "markdown",
   "id": "0765ab09-1c11-4893-a70d-910ecc4ec408",
   "metadata": {},
   "source": []
  },
  {
   "cell_type": "markdown",
   "id": "a0c4684a-d346-490a-a5fb-7f579aa119cd",
   "metadata": {},
   "source": [
    "# Conclusion"
   ]
  },
  {
   "cell_type": "markdown",
   "id": "356f49af-66a1-4870-88b4-33133a8b5bf0",
   "metadata": {},
   "source": [
    "## Recommendations"
   ]
  },
  {
   "cell_type": "markdown",
   "id": "2e03e24b-5a87-49e2-a9d7-a086395c7334",
   "metadata": {},
   "source": []
  },
  {
   "cell_type": "markdown",
   "id": "61e56a8b-a125-4f86-832a-28f613a9eb39",
   "metadata": {},
   "source": [
    "## Limitations"
   ]
  },
  {
   "cell_type": "markdown",
   "id": "72722805-f976-4c28-8879-c6535fcf90b1",
   "metadata": {},
   "source": [
    "1. New users do not have a baseline on listing preferences, as they have not left any reviews. "
   ]
  },
  {
   "cell_type": "markdown",
   "id": "3956a253-d765-4977-b66d-832aa0ddab64",
   "metadata": {},
   "source": [
    "## Next Steps"
   ]
  },
  {
   "cell_type": "markdown",
   "id": "ec3716ea-7893-4bf9-8431-aa5558a1295a",
   "metadata": {},
   "source": []
  }
 ],
 "metadata": {
  "kernelspec": {
   "display_name": "Python 3 (ipykernel)",
   "language": "python",
   "name": "python3"
  },
  "language_info": {
   "codemirror_mode": {
    "name": "ipython",
    "version": 3
   },
   "file_extension": ".py",
   "mimetype": "text/x-python",
   "name": "python",
   "nbconvert_exporter": "python",
   "pygments_lexer": "ipython3",
   "version": "3.11.8"
  }
 },
 "nbformat": 4,
 "nbformat_minor": 5
}
