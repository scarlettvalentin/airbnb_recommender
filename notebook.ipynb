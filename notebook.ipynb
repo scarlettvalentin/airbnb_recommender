{
 "cells": [
  {
   "cell_type": "markdown",
   "id": "43522fa2-239c-4362-9b80-7ab608089958",
   "metadata": {},
   "source": [
    "# Business Understanding"
   ]
  },
  {
   "cell_type": "markdown",
   "id": "d2147d75-4187-4676-8f4a-450644dcd057",
   "metadata": {},
   "source": []
  },
  {
   "cell_type": "markdown",
   "id": "d59834fc-2fbc-4d68-a4c5-c1385168eef1",
   "metadata": {},
   "source": [
    "# Data Understanding"
   ]
  },
  {
   "cell_type": "markdown",
   "id": "67dc9084-5e72-4385-8a28-595424143c5f",
   "metadata": {},
   "source": []
  },
  {
   "cell_type": "markdown",
   "id": "152f3b77-2cdd-48ce-8e8f-2fb449c5328c",
   "metadata": {},
   "source": [
    "## Data Preparation"
   ]
  },
  {
   "cell_type": "markdown",
   "id": "5f1012bb-5c61-4ff3-af39-6791000abebd",
   "metadata": {},
   "source": []
  },
  {
   "cell_type": "markdown",
   "id": "05f6f15b-00c4-4721-88df-da9b70518b54",
   "metadata": {},
   "source": [
    "# Modeling"
   ]
  },
  {
   "cell_type": "markdown",
   "id": "839be8ff-2f18-44e7-84b5-558f481b98a2",
   "metadata": {},
   "source": [
    "## Baseline Understanding"
   ]
  },
  {
   "cell_type": "markdown",
   "id": "a527a781-1ac7-4127-9897-0b7a69eeb659",
   "metadata": {},
   "source": []
  },
  {
   "cell_type": "markdown",
   "id": "12a317a9-59dd-451a-a46e-ccd9672c765b",
   "metadata": {},
   "source": [
    "## Modeling Iterations"
   ]
  },
  {
   "cell_type": "markdown",
   "id": "9cecd05a-6a1d-456d-a930-7f7fe10bdbd5",
   "metadata": {},
   "source": []
  },
  {
   "cell_type": "markdown",
   "id": "017e60a4-168f-455d-b988-bdadb61a0642",
   "metadata": {},
   "source": [
    "## Final Model"
   ]
  },
  {
   "cell_type": "markdown",
   "id": "0765ab09-1c11-4893-a70d-910ecc4ec408",
   "metadata": {},
   "source": []
  },
  {
   "cell_type": "markdown",
   "id": "a0c4684a-d346-490a-a5fb-7f579aa119cd",
   "metadata": {},
   "source": [
    "# Conclusion"
   ]
  },
  {
   "cell_type": "markdown",
   "id": "356f49af-66a1-4870-88b4-33133a8b5bf0",
   "metadata": {},
   "source": [
    "## Recommendations"
   ]
  },
  {
   "cell_type": "markdown",
   "id": "2e03e24b-5a87-49e2-a9d7-a086395c7334",
   "metadata": {},
   "source": []
  },
  {
   "cell_type": "markdown",
   "id": "61e56a8b-a125-4f86-832a-28f613a9eb39",
   "metadata": {},
   "source": [
    "## Limitations"
   ]
  },
  {
   "cell_type": "markdown",
   "id": "72722805-f976-4c28-8879-c6535fcf90b1",
   "metadata": {},
   "source": []
  },
  {
   "cell_type": "markdown",
   "id": "3956a253-d765-4977-b66d-832aa0ddab64",
   "metadata": {},
   "source": [
    "## Next Steps"
   ]
  },
  {
   "cell_type": "markdown",
   "id": "ec3716ea-7893-4bf9-8431-aa5558a1295a",
   "metadata": {},
   "source": []
  }
 ],
 "metadata": {
  "kernelspec": {
   "display_name": "Python 3 (ipykernel)",
   "language": "python",
   "name": "python3"
  },
  "language_info": {
   "codemirror_mode": {
    "name": "ipython",
    "version": 3
   },
   "file_extension": ".py",
   "mimetype": "text/x-python",
   "name": "python",
   "nbconvert_exporter": "python",
   "pygments_lexer": "ipython3",
   "version": "3.11.8"
  }
 },
 "nbformat": 4,
 "nbformat_minor": 5
}
